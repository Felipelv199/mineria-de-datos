{
 "cells": [
  {
   "cell_type": "code",
   "execution_count": 28,
   "metadata": {},
   "outputs": [],
   "source": [
    "import pandas as pd\n",
    "\n",
    "filename = '../../data/prima-indians-diabetes.csv'\n",
    "names = ['Preg', 'Plas', 'Pres', 'Skin',\n",
    "         'Test', 'Mass', 'Pedi', 'Age', 'Class']\n",
    "\n",
    "df = pd.read_csv(filename, names=names)\n",
    "array = df.values\n",
    "# Separate the array into input and output components\n",
    "x = array[:, :8]\n",
    "y = array[:, 8]"
   ]
  },
  {
   "cell_type": "code",
   "execution_count": 29,
   "metadata": {},
   "outputs": [
    {
     "data": {
      "text/plain": [
       "array([0.79220779, 0.83116883, 0.74025974, 0.75324675, 0.79220779,\n",
       "       0.84415584, 0.81818182, 0.72727273, 0.76315789, 0.69736842])"
      ]
     },
     "metadata": {},
     "output_type": "display_data"
    },
    {
     "name": "stdout",
     "output_type": "stream",
     "text": [
      "Accuracy: 77.59% 4.53%\n"
     ]
    }
   ],
   "source": [
    "from sklearn.model_selection import KFold # Iteraciones\n",
    "from sklearn.model_selection import cross_val_score # Metodo de validación\n",
    "from sklearn.linear_model import LogisticRegression # Modelo matemático\n",
    "\n",
    "num_folds = 10\n",
    "kfold = KFold(n_splits=num_folds, shuffle=True)\n",
    "\"\"\"\n",
    "solver: Metodo de penalización\n",
    "\"\"\"\n",
    "model = LogisticRegression(solver=\"lbfgs\",max_iter=1000)\n",
    "results = cross_val_score(model, x, y, cv=kfold)\n",
    "display(results)\n",
    "mean_p = results.mean()*100.0\n",
    "std_p = results.std()*100.0\n",
    "print(f\"Accuracy: {mean_p:,.2f}% {std_p:,.2f}%\")\n"
   ]
  },
  {
   "cell_type": "code",
   "execution_count": 30,
   "metadata": {},
   "outputs": [
    {
     "data": {
      "text/plain": [
       "0.7913385826771654"
      ]
     },
     "metadata": {},
     "output_type": "display_data"
    },
    {
     "name": "stdout",
     "output_type": "stream",
     "text": [
      "Accuracy: 79.13%\n"
     ]
    }
   ],
   "source": [
    "from sklearn.model_selection import train_test_split # División por porcentaje\n",
    "from sklearn.linear_model import LogisticRegression\n",
    "\n",
    "test_size = .33\n",
    "x_train, x_test, y_train, y_test = train_test_split(x,y,test_size=test_size)\n",
    "model = LogisticRegression(solver=\"lbfgs\", max_iter=1000)\n",
    "model.fit(x_train, y_train)\n",
    "results = model.score(x_test, y_test)\n",
    "display(results)\n",
    "print(f\"Accuracy: {results.mean()*100.0:,.2f}%\")\n"
   ]
  },
  {
   "cell_type": "code",
   "execution_count": 31,
   "metadata": {},
   "outputs": [
    {
     "name": "stdout",
     "output_type": "stream",
     "text": [
      "Accuracy: 77.42% 5.66%\n"
     ]
    }
   ],
   "source": [
    "from sklearn.model_selection import RepeatedKFold\n",
    "from sklearn.model_selection import cross_val_score\n",
    "from sklearn.linear_model import LogisticRegression\n",
    "num_folds = 10\n",
    "num_repeated = 5\n",
    "repeatedkfold = RepeatedKFold(n_splits=num_folds, n_repeats=num_repeated)\n",
    "model=LogisticRegression(solver='lbfgs', max_iter=1000)\n",
    "results = cross_val_score(model, x, y, cv=repeatedkfold)\n",
    "mean_p = results.mean()*100.0\n",
    "std_p = results.std()*100.0\n",
    "print(f\"Accuracy: {mean_p:,.2f}% {std_p:,.2f}%\")\n"
   ]
  },
  {
   "cell_type": "code",
   "execution_count": 33,
   "metadata": {},
   "outputs": [
    {
     "name": "stdout",
     "output_type": "stream",
     "text": [
      "Accuracy: 77.60% 41.69%\n"
     ]
    }
   ],
   "source": [
    "# Evaluate using leave one out cross validation\n",
    "from sklearn.model_selection import LeaveOneOut\n",
    "from sklearn.model_selection import cross_val_score\n",
    "from sklearn.linear_model import LogisticRegression\n",
    "\n",
    "loocv = LeaveOneOut()\n",
    "model = LogisticRegression(solver='lbfgs', max_iter=1000)\n",
    "results = cross_val_score(model, x, y, cv=loocv)\n",
    "mean_p = results.mean()*100.0\n",
    "std_p = results.std()*100.0\n",
    "print(f\"Accuracy: {mean_p:,.2f}% {std_p:,.2f}%\")\n"
   ]
  },
  {
   "cell_type": "code",
   "execution_count": null,
   "metadata": {},
   "outputs": [],
   "source": [
    "# Evaluate using shuffle split cross validation\n",
    "from sklearn.model_selection import ShuffleSplit\n",
    "from sklearn.model_selection import cross_val_score\n",
    "from sklearn.linear_model import LogisticRegression\n",
    "\n",
    "test_size = 0.33\n",
    "n_splits = 10\n",
    "x_train, x_test, y_train, y_test = train_test_split(x,y,test_size=test_size)\n",
    "kfold = ShuffleSplit(n_splits=n_splits, test_size=test_size)\n",
    "model = LogisticRegression(solver='lbfgs', max_iter=1000)\n",
    "results = cross_val_score(model, x, y, cv=kfold)\n",
    "mean_p = results.mean()*100.0\n",
    "std_p = results.std()*100.0\n",
    "print(f\"Accuracy: {mean_p:,.2f}% {std_p:,.2f}%\")"
   ]
  }
 ],
 "metadata": {
  "interpreter": {
   "hash": "2db524e06e9f5f4ffedc911c917cb75e12dbc923643829bf417064a77eb14d37"
  },
  "kernelspec": {
   "display_name": "Python 3.8.3 64-bit",
   "name": "python3"
  },
  "language_info": {
   "codemirror_mode": {
    "name": "ipython",
    "version": 3
   },
   "file_extension": ".py",
   "mimetype": "text/x-python",
   "name": "python",
   "nbconvert_exporter": "python",
   "pygments_lexer": "ipython3",
   "version": "3.8.3"
  },
  "orig_nbformat": 4
 },
 "nbformat": 4,
 "nbformat_minor": 2
}
